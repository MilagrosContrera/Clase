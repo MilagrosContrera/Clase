{
  "nbformat": 4,
  "nbformat_minor": 0,
  "metadata": {
    "colab": {
      "provenance": []
    },
    "kernelspec": {
      "name": "python3",
      "display_name": "Python 3"
    },
    "language_info": {
      "name": "python"
    }
  },
  "cells": [
    {
      "cell_type": "code",
      "source": [
        "# Instalar librerías necesarias\n",
        "!pip install minisom\n",
        "!pip install mealpy"
      ],
      "metadata": {
        "colab": {
          "base_uri": "https://localhost:8080/"
        },
        "id": "EpHhJwcSomO2",
        "outputId": "14172e97-4971-440c-9a91-a2ee9c5b5aa5"
      },
      "execution_count": 1,
      "outputs": [
        {
          "output_type": "stream",
          "name": "stdout",
          "text": [
            "Collecting minisom\n",
            "  Downloading minisom-2.3.5.tar.gz (12 kB)\n",
            "  Preparing metadata (setup.py) ... \u001b[?25l\u001b[?25hdone\n",
            "Building wheels for collected packages: minisom\n",
            "  Building wheel for minisom (setup.py) ... \u001b[?25l\u001b[?25hdone\n",
            "  Created wheel for minisom: filename=MiniSom-2.3.5-py3-none-any.whl size=12031 sha256=9f566e28e91b9bca23dfc31249a9d0615baa06ee926c81d732f32f1b5e44929d\n",
            "  Stored in directory: /root/.cache/pip/wheels/19/db/95/5e53bc2b88a328217fdf9f2886cafbe86b0df274f4b601f572\n",
            "Successfully built minisom\n",
            "Installing collected packages: minisom\n",
            "Successfully installed minisom-2.3.5\n",
            "Collecting mealpy\n",
            "  Downloading mealpy-3.0.2-py3-none-any.whl.metadata (149 kB)\n",
            "\u001b[2K     \u001b[90m━━━━━━━━━━━━━━━━━━━━━━━━━━━━━━━━━━━━━━━\u001b[0m \u001b[32m149.1/149.1 kB\u001b[0m \u001b[31m3.0 MB/s\u001b[0m eta \u001b[36m0:00:00\u001b[0m\n",
            "\u001b[?25hRequirement already satisfied: numpy>=1.17.5 in /usr/local/lib/python3.11/dist-packages (from mealpy) (2.0.2)\n",
            "Requirement already satisfied: matplotlib>=3.3.0 in /usr/local/lib/python3.11/dist-packages (from mealpy) (3.10.0)\n",
            "Requirement already satisfied: scipy>=1.7.1 in /usr/local/lib/python3.11/dist-packages (from mealpy) (1.15.3)\n",
            "Requirement already satisfied: pandas>=1.2.0 in /usr/local/lib/python3.11/dist-packages (from mealpy) (2.2.2)\n",
            "Collecting opfunu>=1.0.0 (from mealpy)\n",
            "  Downloading opfunu-1.0.4-py3-none-any.whl.metadata (10 kB)\n",
            "Requirement already satisfied: contourpy>=1.0.1 in /usr/local/lib/python3.11/dist-packages (from matplotlib>=3.3.0->mealpy) (1.3.2)\n",
            "Requirement already satisfied: cycler>=0.10 in /usr/local/lib/python3.11/dist-packages (from matplotlib>=3.3.0->mealpy) (0.12.1)\n",
            "Requirement already satisfied: fonttools>=4.22.0 in /usr/local/lib/python3.11/dist-packages (from matplotlib>=3.3.0->mealpy) (4.58.1)\n",
            "Requirement already satisfied: kiwisolver>=1.3.1 in /usr/local/lib/python3.11/dist-packages (from matplotlib>=3.3.0->mealpy) (1.4.8)\n",
            "Requirement already satisfied: packaging>=20.0 in /usr/local/lib/python3.11/dist-packages (from matplotlib>=3.3.0->mealpy) (24.2)\n",
            "Requirement already satisfied: pillow>=8 in /usr/local/lib/python3.11/dist-packages (from matplotlib>=3.3.0->mealpy) (11.2.1)\n",
            "Requirement already satisfied: pyparsing>=2.3.1 in /usr/local/lib/python3.11/dist-packages (from matplotlib>=3.3.0->mealpy) (3.2.3)\n",
            "Requirement already satisfied: python-dateutil>=2.7 in /usr/local/lib/python3.11/dist-packages (from matplotlib>=3.3.0->mealpy) (2.9.0.post0)\n",
            "Requirement already satisfied: requests>=2.27.0 in /usr/local/lib/python3.11/dist-packages (from opfunu>=1.0.0->mealpy) (2.32.3)\n",
            "Requirement already satisfied: pytz>=2020.1 in /usr/local/lib/python3.11/dist-packages (from pandas>=1.2.0->mealpy) (2025.2)\n",
            "Requirement already satisfied: tzdata>=2022.7 in /usr/local/lib/python3.11/dist-packages (from pandas>=1.2.0->mealpy) (2025.2)\n",
            "Requirement already satisfied: six>=1.5 in /usr/local/lib/python3.11/dist-packages (from python-dateutil>=2.7->matplotlib>=3.3.0->mealpy) (1.17.0)\n",
            "Requirement already satisfied: charset-normalizer<4,>=2 in /usr/local/lib/python3.11/dist-packages (from requests>=2.27.0->opfunu>=1.0.0->mealpy) (3.4.2)\n",
            "Requirement already satisfied: idna<4,>=2.5 in /usr/local/lib/python3.11/dist-packages (from requests>=2.27.0->opfunu>=1.0.0->mealpy) (3.10)\n",
            "Requirement already satisfied: urllib3<3,>=1.21.1 in /usr/local/lib/python3.11/dist-packages (from requests>=2.27.0->opfunu>=1.0.0->mealpy) (2.4.0)\n",
            "Requirement already satisfied: certifi>=2017.4.17 in /usr/local/lib/python3.11/dist-packages (from requests>=2.27.0->opfunu>=1.0.0->mealpy) (2025.4.26)\n",
            "Downloading mealpy-3.0.2-py3-none-any.whl (397 kB)\n",
            "\u001b[2K   \u001b[90m━━━━━━━━━━━━━━━━━━━━━━━━━━━━━━━━━━━━━━━━\u001b[0m \u001b[32m397.9/397.9 kB\u001b[0m \u001b[31m11.8 MB/s\u001b[0m eta \u001b[36m0:00:00\u001b[0m\n",
            "\u001b[?25hDownloading opfunu-1.0.4-py3-none-any.whl (13.0 MB)\n",
            "\u001b[2K   \u001b[90m━━━━━━━━━━━━━━━━━━━━━━━━━━━━━━━━━━━━━━━━\u001b[0m \u001b[32m13.0/13.0 MB\u001b[0m \u001b[31m46.8 MB/s\u001b[0m eta \u001b[36m0:00:00\u001b[0m\n",
            "\u001b[?25hInstalling collected packages: opfunu, mealpy\n",
            "Successfully installed mealpy-3.0.2 opfunu-1.0.4\n"
          ]
        }
      ]
    },
    {
      "cell_type": "code",
      "source": [
        "import numpy as np\n",
        "from sklearn.datasets import load_iris\n",
        "from sklearn.preprocessing import MinMaxScaler\n",
        "from minisom import MiniSom\n",
        "from mealpy.swarm_based.GWO import OriginalGWO\n",
        "from mealpy.utils.space import FloatVar, IntegerVar\n",
        "\n",
        "# Cargar y normalizar datos\n",
        "iris = load_iris()\n",
        "X = iris.data\n",
        "scaler = MinMaxScaler()\n",
        "X_scaled = scaler.fit_transform(X)\n",
        "\n",
        "# Función objetivo basada en RMSE\n",
        "def fitness_function(solution):\n",
        "    iterations = int(solution[0])\n",
        "    learning_rate = float(solution[1])\n",
        "    sigma = float(solution[2])\n",
        "    map_size = int(round(solution[3]))\n",
        "    map_size = max(2, map_size)\n",
        "\n",
        "    som = MiniSom(x=map_size, y=map_size, input_len=X_scaled.shape[1],\n",
        "                  sigma=sigma, learning_rate=learning_rate, random_seed=42)\n",
        "    som.random_weights_init(X_scaled)\n",
        "    som.train(X_scaled, iterations, verbose=False)\n",
        "\n",
        "    errors = []\n",
        "    for x in X_scaled:\n",
        "        bmu = som.get_weights()[som.winner(x)]\n",
        "        error = np.linalg.norm(x - bmu)\n",
        "        errors.append(error ** 2)\n",
        "\n",
        "    rmse = np.sqrt(np.mean(errors))\n",
        "    return rmse\n",
        "\n",
        "# Definir el espacio de búsqueda\n",
        "problem = {\n",
        "    \"obj_func\": fitness_function,\n",
        "    \"bounds\": [\n",
        "        IntegerVar(100, 1000),   # iteraciones\n",
        "        FloatVar(0.01, 1.0),     # learning rate\n",
        "        FloatVar(0.1, 3.0),      # sigma\n",
        "        IntegerVar(4, 10)        # tamaño del mapa\n",
        "    ],\n",
        "    \"minmax\": \"min\",\n",
        "    \"verbose\": True\n",
        "}\n",
        "\n",
        "# Ejecutar algoritmo GWO\n",
        "model = OriginalGWO(epoch=30, pop_size=10)\n",
        "solution = model.solve(problem)\n",
        "\n",
        "# Extraer resultados\n",
        "best_position = solution.solution\n",
        "best_fitness = solution.target.objectives[0]\n",
        "\n",
        "# Imprimir resultados\n",
        "print(\"\\n Mejores hiperparámetros encontrados:\")\n",
        "print(f\"Iteraciones         : {int(best_position[0])}\")\n",
        "print(f\"Tasa de aprendizaje : {best_position[1]:.4f}\")\n",
        "print(f\"Sigma               : {best_position[2]:.4f}\")\n",
        "print(f\"Tamaño del mapa     : {int(round(best_position[3]))}x{int(round(best_position[3]))}\")\n",
        "print(f\"RMSE mínimo         : {best_fitness:.6f}\")\n"
      ],
      "metadata": {
        "colab": {
          "base_uri": "https://localhost:8080/"
        },
        "id": "ltuGLyijpoiS",
        "outputId": "c5352bf5-b628-4e35-816a-3f80601397cd"
      },
      "execution_count": 3,
      "outputs": [
        {
          "output_type": "stream",
          "name": "stderr",
          "text": [
            "INFO:mealpy.swarm_based.GWO.OriginalGWO:OriginalGWO(epoch=30, pop_size=10)\n",
            "INFO:mealpy.swarm_based.GWO.OriginalGWO:>>>Problem: P, Epoch: 1, Current best: 0.039644409319962964, Global best: 0.039644409319962964, Runtime: 0.52663 seconds\n",
            "INFO:mealpy.swarm_based.GWO.OriginalGWO:>>>Problem: P, Epoch: 2, Current best: 0.03958198203531734, Global best: 0.03958198203531734, Runtime: 0.54781 seconds\n",
            "INFO:mealpy.swarm_based.GWO.OriginalGWO:>>>Problem: P, Epoch: 3, Current best: 0.03958198203531734, Global best: 0.03958198203531734, Runtime: 0.61955 seconds\n",
            "INFO:mealpy.swarm_based.GWO.OriginalGWO:>>>Problem: P, Epoch: 4, Current best: 0.038562739865319606, Global best: 0.038562739865319606, Runtime: 0.64415 seconds\n",
            "INFO:mealpy.swarm_based.GWO.OriginalGWO:>>>Problem: P, Epoch: 5, Current best: 0.038562739865319606, Global best: 0.038562739865319606, Runtime: 0.53359 seconds\n",
            "INFO:mealpy.swarm_based.GWO.OriginalGWO:>>>Problem: P, Epoch: 6, Current best: 0.03808265717623301, Global best: 0.03808265717623301, Runtime: 0.56766 seconds\n",
            "INFO:mealpy.swarm_based.GWO.OriginalGWO:>>>Problem: P, Epoch: 7, Current best: 0.03808265717623301, Global best: 0.03808265717623301, Runtime: 0.64382 seconds\n",
            "INFO:mealpy.swarm_based.GWO.OriginalGWO:>>>Problem: P, Epoch: 8, Current best: 0.03808265717623301, Global best: 0.03808265717623301, Runtime: 0.72183 seconds\n",
            "INFO:mealpy.swarm_based.GWO.OriginalGWO:>>>Problem: P, Epoch: 9, Current best: 0.03808265717623301, Global best: 0.03808265717623301, Runtime: 0.56521 seconds\n",
            "INFO:mealpy.swarm_based.GWO.OriginalGWO:>>>Problem: P, Epoch: 10, Current best: 0.03808265717623301, Global best: 0.03808265717623301, Runtime: 0.75321 seconds\n",
            "INFO:mealpy.swarm_based.GWO.OriginalGWO:>>>Problem: P, Epoch: 11, Current best: 0.03808265717623301, Global best: 0.03808265717623301, Runtime: 0.77891 seconds\n",
            "INFO:mealpy.swarm_based.GWO.OriginalGWO:>>>Problem: P, Epoch: 12, Current best: 0.03808265717623301, Global best: 0.03808265717623301, Runtime: 0.93924 seconds\n",
            "INFO:mealpy.swarm_based.GWO.OriginalGWO:>>>Problem: P, Epoch: 13, Current best: 0.03808253293463528, Global best: 0.03808253293463528, Runtime: 0.91453 seconds\n",
            "INFO:mealpy.swarm_based.GWO.OriginalGWO:>>>Problem: P, Epoch: 14, Current best: 0.03808253293463528, Global best: 0.03808253293463528, Runtime: 0.75896 seconds\n",
            "INFO:mealpy.swarm_based.GWO.OriginalGWO:>>>Problem: P, Epoch: 15, Current best: 0.03808253293463528, Global best: 0.03808253293463528, Runtime: 0.65741 seconds\n",
            "INFO:mealpy.swarm_based.GWO.OriginalGWO:>>>Problem: P, Epoch: 16, Current best: 0.03808253293463528, Global best: 0.03808253293463528, Runtime: 0.83501 seconds\n",
            "INFO:mealpy.swarm_based.GWO.OriginalGWO:>>>Problem: P, Epoch: 17, Current best: 0.03808253293463528, Global best: 0.03808253293463528, Runtime: 0.65416 seconds\n",
            "INFO:mealpy.swarm_based.GWO.OriginalGWO:>>>Problem: P, Epoch: 18, Current best: 0.03808253293463528, Global best: 0.03808253293463528, Runtime: 0.65703 seconds\n",
            "INFO:mealpy.swarm_based.GWO.OriginalGWO:>>>Problem: P, Epoch: 19, Current best: 0.03808253293463528, Global best: 0.03808253293463528, Runtime: 0.72828 seconds\n",
            "INFO:mealpy.swarm_based.GWO.OriginalGWO:>>>Problem: P, Epoch: 20, Current best: 0.03808253293463528, Global best: 0.03808253293463528, Runtime: 0.70288 seconds\n",
            "INFO:mealpy.swarm_based.GWO.OriginalGWO:>>>Problem: P, Epoch: 21, Current best: 0.03808253293463528, Global best: 0.03808253293463528, Runtime: 0.70936 seconds\n",
            "INFO:mealpy.swarm_based.GWO.OriginalGWO:>>>Problem: P, Epoch: 22, Current best: 0.03794076210807698, Global best: 0.03794076210807698, Runtime: 0.74622 seconds\n",
            "INFO:mealpy.swarm_based.GWO.OriginalGWO:>>>Problem: P, Epoch: 23, Current best: 0.03787853070672091, Global best: 0.03787853070672091, Runtime: 0.75448 seconds\n",
            "INFO:mealpy.swarm_based.GWO.OriginalGWO:>>>Problem: P, Epoch: 24, Current best: 0.03787853070672091, Global best: 0.03787853070672091, Runtime: 0.81724 seconds\n",
            "INFO:mealpy.swarm_based.GWO.OriginalGWO:>>>Problem: P, Epoch: 25, Current best: 0.03787853070672091, Global best: 0.03787853070672091, Runtime: 0.75865 seconds\n",
            "INFO:mealpy.swarm_based.GWO.OriginalGWO:>>>Problem: P, Epoch: 26, Current best: 0.03787853070672091, Global best: 0.03787853070672091, Runtime: 0.65039 seconds\n",
            "INFO:mealpy.swarm_based.GWO.OriginalGWO:>>>Problem: P, Epoch: 27, Current best: 0.03787853070672091, Global best: 0.03787853070672091, Runtime: 0.97071 seconds\n",
            "INFO:mealpy.swarm_based.GWO.OriginalGWO:>>>Problem: P, Epoch: 28, Current best: 0.03781645542611444, Global best: 0.03781645542611444, Runtime: 0.96320 seconds\n",
            "INFO:mealpy.swarm_based.GWO.OriginalGWO:>>>Problem: P, Epoch: 29, Current best: 0.03781645542611444, Global best: 0.03781645542611444, Runtime: 0.96972 seconds\n",
            "INFO:mealpy.swarm_based.GWO.OriginalGWO:>>>Problem: P, Epoch: 30, Current best: 0.0377858212300392, Global best: 0.0377858212300392, Runtime: 0.89028 seconds\n"
          ]
        },
        {
          "output_type": "stream",
          "name": "stdout",
          "text": [
            "\n",
            " Mejores hiperparámetros encontrados:\n",
            "Iteraciones         : 995\n",
            "Tasa de aprendizaje : 0.9953\n",
            "Sigma               : 0.3175\n",
            "Tamaño del mapa     : 10x10\n",
            "RMSE mínimo         : 0.037786\n"
          ]
        }
      ]
    },
    {
      "cell_type": "code",
      "source": [
        "# Crear y entrenar SOM con esos parámetros\n",
        "som = MiniSom(x=10, y=10, input_len=X_scaled.shape[1],\n",
        "              sigma=0.3175, learning_rate=0.9953, random_seed=42)\n",
        "som.random_weights_init(X_scaled)\n",
        "som.train(X_scaled, 995, verbose=False)\n",
        "\n",
        "# Calcular RMSE en el conjunto de datos\n",
        "errors = []\n",
        "for x in X_scaled:\n",
        "    bmu = som.get_weights()[som.winner(x)]\n",
        "    error = np.linalg.norm(x - bmu)\n",
        "    errors.append(error ** 2)\n",
        "\n",
        "rmse = np.sqrt(np.mean(errors))\n",
        "\n",
        "print(f\"RMSE: {rmse:.6f}\")"
      ],
      "metadata": {
        "colab": {
          "base_uri": "https://localhost:8080/"
        },
        "id": "it3RXFP-sbqV",
        "outputId": "a5837bbd-ab17-42e9-e336-f5059a9e920e"
      },
      "execution_count": 4,
      "outputs": [
        {
          "output_type": "stream",
          "name": "stdout",
          "text": [
            "RMSE: 0.037786\n"
          ]
        }
      ]
    }
  ]
}