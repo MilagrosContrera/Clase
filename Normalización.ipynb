{
  "nbformat": 4,
  "nbformat_minor": 0,
  "metadata": {
    "colab": {
      "provenance": []
    },
    "kernelspec": {
      "name": "python3",
      "display_name": "Python 3"
    },
    "language_info": {
      "name": "python"
    }
  },
  "cells": [
    {
      "cell_type": "markdown",
      "source": [
        "# Datos númericos"
      ],
      "metadata": {
        "id": "Ix3UrDW24798"
      }
    },
    {
      "cell_type": "markdown",
      "source": [
        "## Librerías"
      ],
      "metadata": {
        "id": "bUJWhp765B26"
      }
    },
    {
      "cell_type": "code",
      "execution_count": 2,
      "metadata": {
        "id": "rxF6yT1ucCLj"
      },
      "outputs": [],
      "source": [
        "import numpy as np\n",
        "import pandas as pd\n",
        "from sklearn.preprocessing import MinMaxScaler, StandardScaler"
      ]
    },
    {
      "cell_type": "markdown",
      "source": [
        "## Datos"
      ],
      "metadata": {
        "id": "izMlVWbU5NAs"
      }
    },
    {
      "cell_type": "code",
      "source": [
        "datos = {\n",
        "    'Edad': [18, 22, 30, 45, 60],\n",
        "    'Ingreso': [1500, 2500, 4000, 5500, 7000]\n",
        "}\n",
        "\n",
        "df = pd.DataFrame(datos)\n",
        "print(\"Datos originales:\")\n",
        "print(df)"
      ],
      "metadata": {
        "colab": {
          "base_uri": "https://localhost:8080/"
        },
        "id": "4DlpZsX_5Iq9",
        "outputId": "cf096009-f20d-49f2-8de5-a1b9209dbd91"
      },
      "execution_count": 3,
      "outputs": [
        {
          "output_type": "stream",
          "name": "stdout",
          "text": [
            "Datos originales:\n",
            "   Edad  Ingreso\n",
            "0    18     1500\n",
            "1    22     2500\n",
            "2    30     4000\n",
            "3    45     5500\n",
            "4    60     7000\n"
          ]
        }
      ]
    },
    {
      "cell_type": "code",
      "source": [
        "# Inicializar el escalador\n",
        "minmax_scaler = MinMaxScaler()\n",
        "\n",
        "# Ajustar y transformar los datos\n",
        "df_minmax = minmax_scaler.fit_transform(df)\n",
        "\n",
        "# Convertir a DataFrame para visualizar\n",
        "df_minmax = pd.DataFrame(df_minmax, columns=['Edad', 'Ingreso'])\n",
        "print(\"\\nDatos normalizados con MinMaxScaler:\")\n",
        "print(df_minmax)"
      ],
      "metadata": {
        "colab": {
          "base_uri": "https://localhost:8080/"
        },
        "id": "t2bWCMEp5ZTF",
        "outputId": "ec8679fd-9c09-4d0d-b91d-9cf7a4afed55"
      },
      "execution_count": 4,
      "outputs": [
        {
          "output_type": "stream",
          "name": "stdout",
          "text": [
            "\n",
            "Datos normalizados con MinMaxScaler:\n",
            "       Edad   Ingreso\n",
            "0  0.000000  0.000000\n",
            "1  0.095238  0.181818\n",
            "2  0.285714  0.454545\n",
            "3  0.642857  0.727273\n",
            "4  1.000000  1.000000\n"
          ]
        }
      ]
    },
    {
      "cell_type": "code",
      "source": [
        "# Inicializar el escalador\n",
        "standard_scaler = StandardScaler()\n",
        "\n",
        "# Ajustar y transformar los datos\n",
        "df_standard = standard_scaler.fit_transform(df)\n",
        "\n",
        "# Convertir a DataFrame para visualizar\n",
        "df_standard = pd.DataFrame(df_standard, columns=['Edad', 'Ingreso'])\n",
        "print(\"\\nDatos escalados con StandardScaler:\")\n",
        "print(df_standard)"
      ],
      "metadata": {
        "colab": {
          "base_uri": "https://localhost:8080/"
        },
        "id": "XTllqHlC5oUA",
        "outputId": "32ade20a-f6ca-40da-e8fc-7b4bdaf503f7"
      },
      "execution_count": 5,
      "outputs": [
        {
          "output_type": "stream",
          "name": "stdout",
          "text": [
            "\n",
            "Datos escalados con StandardScaler:\n",
            "       Edad   Ingreso\n",
            "0 -1.093706 -1.309861\n",
            "1 -0.836363 -0.806068\n",
            "2 -0.321678 -0.050379\n",
            "3  0.643356  0.705310\n",
            "4  1.608391  1.460999\n"
          ]
        }
      ]
    },
    {
      "cell_type": "markdown",
      "source": [
        "# Datos categóricos"
      ],
      "metadata": {
        "id": "7dter2Ku6F7X"
      }
    },
    {
      "cell_type": "code",
      "source": [
        "import pandas as pd\n",
        "from sklearn.preprocessing import LabelEncoder, OneHotEncoder"
      ],
      "metadata": {
        "id": "lmaru4Xs6J1D"
      },
      "execution_count": 6,
      "outputs": []
    },
    {
      "cell_type": "code",
      "source": [
        "# Datos de ejemplo\n",
        "data = {\n",
        "    'Nombre': ['Ana', 'Luis', 'Pedro', 'Ana', 'Luis'],\n",
        "    'Ciudad': ['CDMX', 'Guadalajara', 'Monterrey', 'Monterrey', 'CDMX']\n",
        "}\n",
        "\n",
        "df = pd.DataFrame(data)\n",
        "print(\"Datos originales:\")\n",
        "print(df)"
      ],
      "metadata": {
        "colab": {
          "base_uri": "https://localhost:8080/"
        },
        "id": "nfvr86iB6XXD",
        "outputId": "9af8e07c-37de-43c1-960d-170a5b9f493c"
      },
      "execution_count": 7,
      "outputs": [
        {
          "output_type": "stream",
          "name": "stdout",
          "text": [
            "Datos originales:\n",
            "  Nombre       Ciudad\n",
            "0    Ana         CDMX\n",
            "1   Luis  Guadalajara\n",
            "2  Pedro    Monterrey\n",
            "3    Ana    Monterrey\n",
            "4   Luis         CDMX\n"
          ]
        }
      ]
    },
    {
      "cell_type": "code",
      "source": [
        "# Codificar con LabelEncoder\n",
        "label_encoder = LabelEncoder()\n",
        "\n",
        "df['Nombre_Label'] = label_encoder.fit_transform(df['Nombre'])\n",
        "df['Ciudad_Label'] = label_encoder.fit_transform(df['Ciudad'])\n",
        "\n",
        "print(\"\\nDatos con LabelEncoder:\")\n",
        "print(df)"
      ],
      "metadata": {
        "colab": {
          "base_uri": "https://localhost:8080/"
        },
        "id": "YgPT2ZMU6akJ",
        "outputId": "d4f34459-bd7f-4bcc-f66d-089ba7aad373"
      },
      "execution_count": 8,
      "outputs": [
        {
          "output_type": "stream",
          "name": "stdout",
          "text": [
            "\n",
            "Datos con LabelEncoder:\n",
            "  Nombre       Ciudad  Nombre_Label  Ciudad_Label\n",
            "0    Ana         CDMX             0             0\n",
            "1   Luis  Guadalajara             1             1\n",
            "2  Pedro    Monterrey             2             2\n",
            "3    Ana    Monterrey             0             2\n",
            "4   Luis         CDMX             1             0\n"
          ]
        }
      ]
    }
  ]
}